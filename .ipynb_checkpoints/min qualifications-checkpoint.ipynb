{
 "cells": [
  {
   "cell_type": "code",
   "execution_count": 1,
   "metadata": {},
   "outputs": [],
   "source": [
    "import string\n",
    "import pandas as pd\n",
    "import numpy as np\n",
    "from nltk.stem import PorterStemmer\n",
    "from sklearn.feature_extraction.text import CountVectorizer"
   ]
  },
  {
   "cell_type": "code",
   "execution_count": 2,
   "metadata": {
    "scrolled": true
   },
   "outputs": [
    {
     "name": "stdout",
     "output_type": "stream",
     "text": [
      "PhDs = 8\n",
      "BA/BSs = 978\n",
      "Masters = 79\n",
      "Lawyers = 4\n",
      "MBAs = 38\n",
      "Associates = 37\n"
     ]
    }
   ],
   "source": [
    "data = pd.read_csv('job_skill_short.csv', dtype = str)\n",
    "\n",
    "phd = [\"phd\"]\n",
    "babs = [\"ba/bs\"]\n",
    "mstr = [\"master\"]\n",
    "dct = [\"jd\"]\n",
    "mba = [\"mba\"]\n",
    "asc = [\"asc\"]\n",
    "for a in data['Minimum.Qualifications']:\n",
    "    if a is None:\n",
    "        phd.append(0)\n",
    "        babs.append(0)\n",
    "        mstr.append(0)\n",
    "        dct.append(0)\n",
    "        mba.append(0)\n",
    "        asc.append(0)\n",
    "    elif (str(a).lower().find(\"phd\") != -1):\n",
    "        phd.append(1)\n",
    "    elif (str(a).lower().find(\"ba/bs\") != -1 or str(a).lower().find(\"bachelor\") != -1):\n",
    "        babs.append(1)\n",
    "    elif (str(a).lower().find(\"ms\") != -1 or str(a).lower().find(\"master\") != -1):\n",
    "        mstr.append(1)\n",
    "    elif (str(a).lower().find(\"juris\") != -1):\n",
    "        dct.append(1)\n",
    "    elif (str(a).lower().find(\"mba\") != -1):\n",
    "        mba.append(1)\n",
    "    elif (str(a).lower().find(\"aa\") != -1 or str(a).lower().find(\"as\") != -1):\n",
    "        asc.append(1)\n",
    "    else:\n",
    "        phd.append(0)\n",
    "        babs.append(0)\n",
    "        mstr.append(0)\n",
    "        dct.append(0)\n",
    "        mba.append(0)\n",
    "        asc.append(0)\n",
    "\n",
    "print(\"PhDs = \" + str(sum(phd[1:])))\n",
    "print(\"BA/BSs = \" + str(sum(babs[1:])))\n",
    "print(\"Masters = \" + str(sum(mstr[1:])))\n",
    "print(\"Lawyers = \" + str(sum(dct[1:])))\n",
    "print(\"MBAs = \" + str(sum(mba[1:])))\n",
    "print(\"Associates = \" + str(sum(asc[1:])))"
   ]
  },
  {
   "cell_type": "code",
   "execution_count": 3,
   "metadata": {},
   "outputs": [
    {
     "ename": "NameError",
     "evalue": "name 'bow' is not defined",
     "output_type": "error",
     "traceback": [
      "\u001b[0;31m---------------------------------------------------------------------------\u001b[0m",
      "\u001b[0;31mNameError\u001b[0m                                 Traceback (most recent call last)",
      "\u001b[0;32m<ipython-input-3-469b1a9db072>\u001b[0m in \u001b[0;36m<module>\u001b[0;34m()\u001b[0m\n\u001b[1;32m      1\u001b[0m \u001b[0mnewdata\u001b[0m \u001b[0;34m=\u001b[0m \u001b[0mpd\u001b[0m\u001b[0;34m.\u001b[0m\u001b[0mread_csv\u001b[0m\u001b[0;34m(\u001b[0m\u001b[0;34m'dtm_jobs.csv'\u001b[0m\u001b[0;34m,\u001b[0m \u001b[0mdtype\u001b[0m \u001b[0;34m=\u001b[0m \u001b[0mstr\u001b[0m\u001b[0;34m)\u001b[0m\u001b[0;34m\u001b[0m\u001b[0m\n\u001b[1;32m      2\u001b[0m \u001b[0;34m\u001b[0m\u001b[0m\n\u001b[0;32m----> 3\u001b[0;31m \u001b[0mprint\u001b[0m\u001b[0;34m(\u001b[0m\u001b[0mbow\u001b[0m\u001b[0;34m)\u001b[0m\u001b[0;34m\u001b[0m\u001b[0m\n\u001b[0m\u001b[1;32m      4\u001b[0m \u001b[0;34m\u001b[0m\u001b[0m\n\u001b[1;32m      5\u001b[0m \u001b[0mprint\u001b[0m\u001b[0;34m(\u001b[0m\u001b[0mtype\u001b[0m\u001b[0;34m(\u001b[0m\u001b[0mbow\u001b[0m\u001b[0;34m)\u001b[0m\u001b[0;34m)\u001b[0m\u001b[0;34m\u001b[0m\u001b[0m\n",
      "\u001b[0;31mNameError\u001b[0m: name 'bow' is not defined"
     ]
    }
   ],
   "source": [
    "\n",
    "\"\"\"\n",
    "newdata = pd.read_csv('dtm_jobs.csv', dtype = str)\n",
    "\n",
    "print(bow)\n",
    "\n",
    "print(type(bow))\n",
    "print(bow.shape)\n",
    "print(len(vectorizer.get_feature_names()))\n",
    "\n",
    "dtm = pd.DataFrame(bow, columns=vectorizer.get_feature_names())\n",
    "new_data = pd.concat([data, dtm], axis=1)\n",
    "print(new_data)\n",
    "\"\"\""
   ]
  },
  {
   "cell_type": "code",
   "execution_count": null,
   "metadata": {},
   "outputs": [],
   "source": []
  }
 ],
 "metadata": {
  "kernelspec": {
   "display_name": "Python 3",
   "language": "python",
   "name": "python3"
  },
  "language_info": {
   "codemirror_mode": {
    "name": "ipython",
    "version": 3
   },
   "file_extension": ".py",
   "mimetype": "text/x-python",
   "name": "python",
   "nbconvert_exporter": "python",
   "pygments_lexer": "ipython3",
   "version": "3.6.5"
  }
 },
 "nbformat": 4,
 "nbformat_minor": 2
}
