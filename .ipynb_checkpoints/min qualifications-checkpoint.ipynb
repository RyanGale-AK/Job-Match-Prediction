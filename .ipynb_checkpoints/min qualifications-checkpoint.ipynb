{
 "cells": [
  {
   "cell_type": "code",
   "execution_count": 1,
   "metadata": {},
   "outputs": [],
   "source": [
    "import string\n",
    "import pandas as pd\n",
    "import numpy as np\n",
    "from nltk.stem import PorterStemmer\n",
    "from sklearn.feature_extraction.text import CountVectorizer"
   ]
  },
  {
   "cell_type": "code",
   "execution_count": 2,
   "metadata": {
    "scrolled": true
   },
   "outputs": [
    {
     "name": "stdout",
     "output_type": "stream",
     "text": [
      "PhDs = 8\n",
      "BA/BSs = 978\n",
      "Masters = 308\n",
      "Lawyers = 6\n",
      "MBAs = 71\n",
      "Associates = 440\n"
     ]
    }
   ],
   "source": [
    "data = pd.read_csv('dtm_jobs.csv', dtype = str)\n",
    "\n",
    "phd = []\n",
    "babs = []\n",
    "mstr = []\n",
    "dct = []\n",
    "mba = []\n",
    "asc = []\n",
    "for a in data['Minimum.Qualifications']:\n",
    "    if a is None:\n",
    "        a = \"\"\n",
    "    if (str(a).lower().find(\"phd\") != -1):\n",
    "        phd.append(1)\n",
    "    else:\n",
    "        phd.append(0)\n",
    "    if (str(a).lower().find(\"ba/bs\") != -1 or str(a).lower().find(\"bachelor\") != -1):\n",
    "        babs.append(1)\n",
    "    else:\n",
    "        babs.append(0)\n",
    "    if (str(a).lower().find(\"ms\") != -1 or str(a).lower().find(\"master\") != -1):\n",
    "        mstr.append(1)\n",
    "    else:\n",
    "        mstr.append(0)\n",
    "    if (str(a).lower().find(\"juris\") != -1):\n",
    "        dct.append(1)\n",
    "    else:\n",
    "        dct.append(0)\n",
    "    if (str(a).lower().find(\"mba\") != -1):\n",
    "        mba.append(1)\n",
    "    else:\n",
    "        mba.append(0)\n",
    "    if (str(a).lower().find(\"aa\") != -1 or str(a).lower().find(\"as\") != -1):\n",
    "        asc.append(1)\n",
    "    else:\n",
    "        asc.append(0)\n",
    "\n",
    "print(\"PhDs = \" + str(sum(phd[1:])))\n",
    "print(\"BA/BSs = \" + str(sum(babs[1:])))\n",
    "print(\"Masters = \" + str(sum(mstr[1:])))\n",
    "print(\"Lawyers = \" + str(sum(dct[1:])))\n",
    "print(\"MBAs = \" + str(sum(mba[1:])))\n",
    "print(\"Associates = \" + str(sum(asc[1:])))"
   ]
  },
  {
   "cell_type": "code",
   "execution_count": 3,
   "metadata": {},
   "outputs": [
    {
     "data": {
      "text/plain": [
       "\"\\nnewdata = pd.read_csv('dtm_jobs.csv', dtype = str)\\n\\nprint(bow)\\n\\nprint(type(bow))\\nprint(bow.shape)\\nprint(len(vectorizer.get_feature_names()))\\n\\ndtm = pd.DataFrame(bow, columns=vectorizer.get_feature_names())\\nnew_data = pd.concat([data, dtm], axis=1)\\nprint(new_data)\\n\""
      ]
     },
     "execution_count": 3,
     "metadata": {},
     "output_type": "execute_result"
    }
   ],
   "source": [
    "\"\"\"\n",
    "newdata = pd.read_csv('dtm_jobs.csv', dtype = str)\n",
    "\n",
    "print(bow)\n",
    "\n",
    "print(type(bow))\n",
    "print(bow.shape)\n",
    "print(len(vectorizer.get_feature_names()))\n",
    "\n",
    "dtm = pd.DataFrame(bow, columns=vectorizer.get_feature_names())\n",
    "new_data = pd.concat([data, dtm], axis=1)\n",
    "print(new_data)\n",
    "\"\"\""
   ]
  },
  {
   "cell_type": "code",
   "execution_count": 4,
   "metadata": {
    "scrolled": true
   },
   "outputs": [],
   "source": [
    "newfeatures = {'phd' : pd.Series(phd),\n",
    "              'ba/bs' : pd.Series(babs),\n",
    "              'master' : pd.Series(mstr),\n",
    "              'juris' : pd.Series(dct),\n",
    "              'mba' : pd.Series(mba),\n",
    "              'associate' : pd.Series(asc)}\n",
    "dtm = pd.DataFrame(newfeatures)\n",
    "new_data = pd.concat([data, dtm], axis=1)\n",
    "new_data.to_csv(\"dtm_jobs_v2.csv\", header= True)"
   ]
  }
 ],
 "metadata": {
  "kernelspec": {
   "display_name": "Python 3",
   "language": "python",
   "name": "python3"
  },
  "language_info": {
   "codemirror_mode": {
    "name": "ipython",
    "version": 3
   },
   "file_extension": ".py",
   "mimetype": "text/x-python",
   "name": "python",
   "nbconvert_exporter": "python",
   "pygments_lexer": "ipython3",
   "version": "3.6.5"
  }
 },
 "nbformat": 4,
 "nbformat_minor": 2
}
