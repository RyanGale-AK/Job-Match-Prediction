{
 "cells": [
  {
   "cell_type": "code",
   "execution_count": 1,
   "metadata": {},
   "outputs": [],
   "source": [
    "import string\n",
    "import pandas as pd\n",
    "import numpy as np\n",
    "from nltk.stem import PorterStemmer\n",
    "from sklearn.feature_extraction.text import CountVectorizer"
   ]
  },
  {
   "cell_type": "code",
   "execution_count": 2,
   "metadata": {
    "scrolled": false
   },
   "outputs": [],
   "source": [
    "\"\"\"\n",
    "We use an n-gram vectorizer to collect significant words and phrases\n",
    "from the job responsibilities section.\n",
    "\n",
    "See scikit-learn.org/stable/modules/feature_extraction.html and \n",
    "scikit-learn.org/stable/modules/classes.html#text-feature-extraction-ref \n",
    "for TfidfVectorizer parameters\"\"\"\n",
    "\n",
    "data = pd.read_csv('job_skill_short.csv', dtype = str)\n",
    "# clean 15 empty lines, replace null entries with space\n",
    "corpus = data['Responsibilities'].fillna(\" \")\n",
    "\n",
    "#replacing punctuation\n",
    "corpus = corpus.str.replace('\\'',' ')\n",
    "corpus = corpus.str.replace(\"-\",' ')\n",
    "corpus = corpus.str.replace(\",\",'')\n",
    "corpus = corpus.str.replace(\"\\\\n\",'. ')\n",
    "corpus = corpus.str.replace('[^\\w\\s]','.')\n",
    "corpus = corpus.str.replace(\"\\..\",'.')\n",
    "\n",
    "st = PorterStemmer()\n",
    "corpus = corpus.apply(lambda x: \" \".join([st.stem(word) for word in x.split()]))#stem words\n",
    "\n",
    "\"\"\" tokenize all words 3 letters or longer.  \n",
    "    Ignore 3-grams that occur in more than 60% \n",
    "    or in less than 1% of descriptions\n",
    "\"\"\"\n",
    "vectorizer = CountVectorizer(stop_words = 'english', strip_accents=ascii, ngram_range=(1, 3), analyzer = 'word',max_df=0.6, min_df=.01)\n",
    "bow = np.array(vectorizer.fit_transform(corpus).toarray())\n",
    "#print(\"extracted \" + str(len(vectorizer.get_feature_names())) + \" features from \" + str(len(corpus)) + \" documents\\n\")\n",
    "#print(vectorizer.get_feature_names())\n",
    "#print(bow)"
   ]
  },
  {
   "cell_type": "code",
   "execution_count": 3,
   "metadata": {},
   "outputs": [],
   "source": [
    "#print(bow)\n",
    "\n",
    "#print(type(bow))\n",
    "#print(bow.shape)\n",
    "#print(len(vectorizer.get_feature_names()))\n",
    "\n",
    "dtm = pd.DataFrame(bow, columns=vectorizer.get_feature_names())\n",
    "new_data = pd.concat([data, dtm], axis=1)\n",
    "#print(new_data)\n",
    "new_data.to_csv(\"dtm_jobs.csv\", header= True)"
   ]
  },
  {
   "cell_type": "code",
   "execution_count": 4,
   "metadata": {},
   "outputs": [
    {
     "name": "stdout",
     "output_type": "stream",
     "text": [
      "extracted 608 features from 1227 documents\n",
      "\n",
      "['10 week month', '10 week program', '10 year experi', '10 year relev', '11 12 week', '11 week program', '12 week program', '12 year experi', '12 year relev', '2018 2019 2020', '2018 2019 pleas', '2018 abil speak', '2018 author work', '2018 decemb 2018', '2018 juli 2019', '2018 june 2019', '2019 2020 current', '2019 2020 design', '2019 abl complet', '2019 author work', '2019 avail intern', '2019 pleas includ', '2019 return educ', '2020 current enrol', '2020 design portfolio', '40 time requir', 'aas infrastructur servic', 'aas markets experi', 'aas platform servic', 'abil commit minimum', 'abil speak write', 'abil travel 40', 'abil travel 50', 'abl complet 11', 'abl complet minimum', 'abl speak write', 'account equival practic', 'administr ba program', 'advertis sale market', 'agenc corpor setting', 'agenc hous corpor', 'agil partner mid', 'aipei offic septemb', 'akarta offic septemb', 'anagement sale relationship', 'ani major univers', 'anthropolog human factor', 'anthropolog inform scienc', 'appli research setting', 'arab italian polish', 'architect engin team', 'aspect cloud comput', 'author practic law', 'author work unit', 'avail intern google', 'ba degre account', 'ba degre anthropolog', 'ba degre busi', 'ba degre comput', 'ba degre design', 'ba degre engin', 'ba degre equival', 'ba degre graphic', 'ba degre quantit', 'ba degre technic', 'ba degre technolog', 'ba program ani', 'ba program graduat', 'bachelor degre comput', 'bachelor degre equival', 'bachelor master degre', 'bangkok akarta offic', 'basi complet internship', 'begin june 2018', 'behavior experi data', 'behavior experi work', 'beijing hanghai ong', 'bs degre comput', 'build scalabl partner', 'busi administr ba', 'busi level commun', 'busi relat field', 'busi technolog market', 'buy behavior experi', 'capac technic sale', 'channel manager experi', 'channel sale role', 'ci comput scienc', 'client sales anagement', 'cloud company experi', 'cloud comput environ', 'cloud comput nfrastructur', 'cloud market competit', 'cloud solut softwar', 'cognit scienc experiment', 'commit minimum 10', 'commun product industri', 'commun product industrial', 'competit dynam custom', 'complet 11 12', 'complet 11 week', 'complet internship abil', 'complet internship abl', 'complet internship current', 'complet minimum 10', 'comput environ equival', 'comput interact ci', 'comput interact cognit', 'comput interact comput', 'comput nfrastructur storag', 'comput scienc engin', 'comput scienc equival', 'comput scienc human', 'comput scienc mathemat', 'comput scienc relat', 'conduct semi structur', 'consult invest bank', 'consult sale account', 'consulting abil speak', 'contextu field visit', 'corpor commun experience', 'corpor talent team', 'cross function team', 'css javascript http', 'current enrol ani', 'current enrol bachelor', 'current enrol time', 'current enrol year', 'current pursu ba', 'current pursu bachelor', 'custom buy behavior', 'custom face role', 'custom partner face', 'cycl recruit experi', 'data cloud market', 'data inform lifecycl', 'date decemb 2018', 'date resume return', 'decemb 2018 abil', 'decemb 2018 juli', 'decemb 2018 june', 'defin geograph territory', 'degre account financ', 'degre anthropolog human', 'degre comput scienc', 'degre design interact', 'degre electr engin', 'degre equival practic', 'degre graphic design', 'degre human comput', 'degre program maintain', 'degre program return', 'degre technic engin', 'degre technic quantitative', 'degre technolog engin', 'demonstr design principl', 'design human comput', 'design interact graphic', 'design portfolio demonstr', 'design principl web', 'develop channel sale', 'direct client sales', 'dynam custom buy', 'econom equival practic', 'ecosystem rang agil', 'educ time basi', 'electr engin mechan', 'end 2018 2019', 'engin cloud comput', 'engin equival practic', 'engin field equival', 'engin mechan engin', 'engin relat engin', 'engin relat field', 'engin scienc econom', 'engin team abl', 'engin team experi', 'english fluentli idiomatically', 'english french fluentli', 'english german fluentli', 'english italian fluentli', 'english japanes fluentli', 'english korean fluentli', 'english local languag', 'english mandarin fluentli', 'english polish fluentli', 'english portugues fluentli', 'english russian fluentli', 'english spanish fluentli', 'enrol ani major', 'enrol bachelor master', 'enrol time degre', 'enrol year ba', 'environ equival experi', 'environment abil speak', 'equival experi custom', 'erman arab italian', 'execut search firm', 'expect graduat date', 'experi advertis sale', 'experi agenc corpor', 'experi appli research', 'experi build scalabl', 'experi cloud comput', 'experi conduct semi', 'experi consult sale', 'experi custom face', 'experi custom partner', 'experi data analysi', 'experi data inform', 'experi direct client', 'experi execut search', 'experi field sale', 'experi following java', 'experi lead manag', 'experi manag consult', 'experi manag secur', 'experi manag team', 'experi partner channel', 'experi peopl management', 'experi privat practic', 'experi program languag', 'experi program manag', 'experi project manag', 'experi public account', 'experi public cloud', 'experi relat field', 'experi sale market', 'experi sale technolog', 'experi serv capac', 'experi technolog industri', 'experi technolog infrastructur', 'experi web technolog', 'experi work cloud', 'experi work directli', 'experi work manag', 'experi work product', 'experi work sql', 'experi work statist', 'experi work technic', 'experi work technolog', 'experi write softwar', 'experience 10 year', 'experience 12 year', 'experience abil speak', 'experience experi build', 'experience experi cloud', 'experience experi conduct', 'experience experi consult', 'experience experi creat', 'experience experi develop', 'experience experi direct', 'experience experi manag', 'experience experi onlin', 'experience experi serv', 'experience experi web', 'experience experi work', 'experience experi write', 'experience program experi', 'experience year cycl', 'experience year experi', 'experience year field', 'experience year industri', 'experience year relev', 'experience year technolog', 'experience year work', 'experiment psycholog anthropolog', 'face role nclude', 'factor psycholog hci', 'field equival practic', 'field graduat 2018', 'field sale experi', 'field sale technolog', 'field visit usabl', 'firm recruit agenc', 'flu idiomatically abil', 'focus work sampl', 'following java python', 'french fluentli idiomatically', 'german fluentli idiomatically', 'given student graduat', 'good stand otherwis', 'graduat 2018 2019', 'graduat date decemb', 'graduat date resume', 'graduat decemb 2018', 'graduat end 2018', 'graphic design human', 'graphic visual commun', 'hanghai ong kong', 'hci omput scienc', 'hous corpor talent', 'hous status state', 'hr busi partner', 'html css javascript', 'human comput interact', 'human factor psycholog', 'iaa product platforms', 'idiomatically abil travel', 'includ graduat date', 'includ java python', 'industri human comput', 'industri procur suppli', 'industri saa paa', 'industri sell enterpris', 'inform lifecycl manag', 'infrastructur servic aas', 'infrastructur servic platform', 'integr global integrators', 'interact ci comput', 'interact cognit scienc', 'interact comput scienc', 'interact graphic visual', 'internship abil commit', 'internship abl complet', 'internship current pursu', 'internship prior given', 'interview contextu field', 'italian fluentli idiomatically', 'italian polish romanian', 'japanes fluentli idiomatically', 'java python experi', 'java python javascript', 'javascript http experi', 'javascript nodej net', 'juli 2018 decemb', 'juli 2019 return', 'june 2018 author', 'june 2019 abl', 'june 2019 author', 'june 2019 avail', 'kong aipei offic', 'korean fluentli idiomatically', 'languag erman arab', 'languag includ java', 'languag java python', 'law regist hous', 'lead manag team', 'lifecycl manag relat', 'live remot userzoom', 'local languag erman', 'locat good stand', 'maintain student statu', 'major univers unit', 'manag consult corpor', 'manag consult invest', 'manag equival experience', 'manag experi technolog', 'manag partner develop', 'manag relat sap', 'manag role experi', 'manag strateg partnership', 'management abil speak', 'management experi work', 'mandarin fluentli idiomatically', 'market competit dynam', 'market consult media', 'markets experi partner', 'master busi administr', 'master degre program', 'mathemat relat technic', 'mba program expect', 'mechan engin relat', 'media corpor commun', 'member profession servic', 'mid tier integr', 'minimum 10 week', 'nclude work member', 'nfrastructur storag platform', 'nodej net ruby', 'offic juli 2018', 'offic septemb 2018', 'omput scienc relat', 'ong kong aipei', 'operations experi work', 'otherwis author practic', 'paa iaa product', 'packag sa stata', 'partner defin geograph', 'partner develop channel', 'partner ecosystem rang', 'partner face role', 'partner mid tier', 'peopl manag experi', 'platform abil speak', 'platform data cloud', 'platform servic aas', 'pleas includ graduat', 'polish fluentli idiomatically', 'polish romanian flu', 'portfolio demonstr design', 'portfolio technologies abil', 'portfolio ux focus', 'portugues fluentli idiomatically', 'pr media corpor', 'practic experience 10', 'practic experience 12', 'practic experience abil', 'practic experience cpa', 'practic experience experi', 'practic experience program', 'practic experience qualifi', 'practic experience year', 'practic hous team', 'practic law regist', 'principl web mobil', 'prior given student', 'privat practic hous', 'procur suppli chain', 'product industri human', 'profession servic engin', 'profession servic solut', 'program ani major', 'program bangkok akarta', 'program begin june', 'program beijing hanghai', 'program complet internship', 'program expect graduat', 'program experi following', 'program graduat decemb', 'program languag includ', 'program maintain student', 'program manag partner', 'program return program', 'project manag experience', 'project manag role', 'psycholog anthropolog inform', 'psycholog hci omput', 'public cloud solut', 'pull data dataset', 'pursu ba degre', 'pursu bachelor degre', 'pursu time mba', 'python javascript nodej', 'quantit field equival', 'rang agil partner', 'recruit agenc hous', 'recruit experi agenc', 'regist hous status', 'relat engin field', 'relat field equival', 'relat field graduat', 'relat sap portfolio', 'relat softwar engin', 'relat technic field', 'relat technic subject', 'relationship manag experi', 'relev pr media', 'relev work experi', 'relev work experience', 'remot userzoom usertesting', 'requir visit partner', 'resume return educ', 'return educ time', 'return program complet', 'role abil speak', 'role busi technolog', 'role nclude work', 'romanian flu idiomatically', 'russian fluentli idiomatically', 'sa stata matlab', 'saa paa iaa', 'sale account management', 'sale busi develop', 'sale custom support', 'sale engin cloud', 'sale experi technolog', 'sale market consult', 'sale relationship manag', 'sale role busi', 'sale technolog industri', 'sales anagement sale', 'sampl web mobil', 'sap portfolio technologies', 'scalabl partner ecosystem', 'scienc econom equival', 'scienc equival practic', 'scienc experiment psycholog', 'scienc human comput', 'scienc mathemat physic', 'scienc mathemat relat', 'scienc relat field', 'scienc relat softwar', 'scienc relat technic', 'search firm recruit', 'sell enterpris software', 'semi structur interview', 'serv capac technic', 'servic aas infrastructur', 'servic aas markets', 'servic aas platform', 'servic engin team', 'servic platform abil', 'servic solut architect', 'softwar cloud company', 'softwar engin field', 'softwar languag java', 'softwar servic aas', 'solut architect engin', 'solut softwar servic', 'spanish fluentli idiomatically', 'speak write english', 'stand otherwis author', 'stata matlab experi', 'state expect graduat', 'states abl complet', 'statist arriv answer', 'statist packag sa', 'statu internship prior', 'storag platform data', 'structur interview contextu', 'student graduat end', 'student statu internship', 'student year time', 'studi live remot', 'subject equival practic', 'suppli chain manag', 'swedish norwegian finnish', 'team abl speak', 'team experi work', 'technic engin field', 'technic field equival', 'technic quantitative usi', 'technic sale engin', 'technic subject equival', 'technolog cloud comput', 'technolog company experi', 'technolog engin scienc', 'technolog html css', 'technolog industri procur', 'technolog industri saa', 'technolog industri sell', 'technolog infrastructur servic', 'technologies abil speak', 'tier integr global', 'time basi complet', 'time degre program', 'time master busi', 'time mba program', 'time requir visit', 'travel 40 time', 'travel 50 time', 'unit state expect', 'unit states abl', 'univers unit state', 'usabl studi live', 'use statist arriv', 'userzoom usertesting om', 'ux focus work', 'visit partner defin', 'visit usabl studi', 'visual commun product', 'web mobil applications', 'web mobil platforms', 'web technolog html', 'week month google', 'week program bangkok', 'week program begin', 'week program beijing', 'work cloud comput', 'work cross function', 'work experi public', 'work experience experi', 'work member profession', 'work sampl web', 'work statist packag', 'work unit states', 'write english fluentli', 'write english french', 'write english german', 'write english italian', 'write english japanes', 'write english korean', 'write english local', 'write english mandarin', 'write english polish', 'write english portugues', 'write english russian', 'write english spanish', 'write product document', 'write softwar languag', 'year ba program', 'year cycl recruit', 'year experi advertis', 'year experi field', 'year experi lead', 'year experi manag', 'year experi market', 'year experi media', 'year experi partner', 'year experi program', 'year experi sale', 'year experi serv', 'year experi technic', 'year experi technolog', 'year experi ux', 'year experi work', 'year field sale', 'year industri experi', 'year peopl manag', 'year relev experi', 'year relev experience', 'year relev pr', 'year relev work', 'year student year', 'year time master', 'year work experi', 'year work experience']\n"
     ]
    }
   ],
   "source": [
    "corpus_null = data['Minimum.Qualifications']\n",
    "corpus= corpus_null.fillna(\" \") # clean 15 empty lines, replace null entries with space\n",
    "\n",
    "#replacing punctuation\n",
    "corpus = corpus.str.replace('\\'',' ')\n",
    "corpus = corpus.str.replace(\"-\",' ')\n",
    "corpus = corpus.str.replace(\",\",'')\n",
    "corpus = corpus.str.replace(\"\\\\n\",'. ')\n",
    "corpus = corpus.str.replace('[^\\w\\s]','.')\n",
    "corpus = corpus.str.replace(\"\\..\",'.')\n",
    "\n",
    "\n",
    "#corpus = corpus.str.replace('.','')\n",
    "\n",
    "st = PorterStemmer()\n",
    "corpus = corpus.apply(lambda x: \" \".join([st.stem(word) for word in x.split()]))#stem words\n",
    "\n",
    "# tokenize all words 3 letters or longer.  Ignore 3-grams that occur in more than 727 or in less than 3 descriptions\n",
    "vectorizer = CountVectorizer(stop_words = 'english', strip_accents=ascii, ngram_range=(3,3), analyzer = 'word',max_df=0.6, min_df=.005)\n",
    "bow = np.array(vectorizer.fit_transform(corpus).toarray())\n",
    "#print(\"extracted \" + str(len(vectorizer.get_feature_names())) + \" features from \" + str(len(corpus)) + \" documents\\n\")\n",
    "#print(vectorizer.get_feature_names())"
   ]
  },
  {
   "cell_type": "code",
   "execution_count": 5,
   "metadata": {},
   "outputs": [
    {
     "name": "stdout",
     "output_type": "stream",
     "text": [
      "extracted 1383 features from 1227 documents\n",
      "\n",
      "['10 year experi', '10 year partner', '10 year relev', '2018 2019 2020', '2019 2020 demonstr', '2019 2020 relev', '2020 demonstr profici', '2020 relev work', 'aa iaas work', 'aas aas experi', 'aas aas technologies', 'aas experi work', 'aas infrastructur servic', 'aas technologies experi', 'abil adapt messag', 'abil analyz complex', 'abil appli brand', 'abil build influenti', 'abil build relationship', 'abil build strong', 'abil collabor build', 'abil comfort interact', 'abil commun complex', 'abil commun effect', 'abil craft compel', 'abil deal ambigu', 'abil deleg motiv', 'abil deliv high', 'abil drive implement', 'abil effect convers', 'abil effect influenc', 'abil effect oper', 'abil engag develop', 'abil engag senior', 'abil handl custom', 'abil handl highli', 'abil initi build', 'abil lead handl', 'abil lead manag', 'abil manag multipl', 'abil manag numer', 'abil meet exceed', 'abil multi task', 'abil navig ambigu', 'abil oper fast', 'abil oper self', 'abil plan pitch', 'abil plan present', 'abil present execut', 'abil priorit plan', 'abil product technolog', 'abil quickli identifi', 'abil quickli learn', 'abil solv highli', 'abil speak credibl', 'abil speak write', 'abil think plan', 'abil think strateg', 'abil understand complex', 'abil work calmli', 'abil work collabor', 'abil work cross', 'abil work effect', 'abil work fast', 'abil work independ', 'abil work metric', 'abil work strateg', 'abil work team', 'abl oom ut', 'absorb complex technic', 'account base demonstr', 'account manag busi', 'account manag market', 'account ownership combin', 'account strong work', 'accounts understand big', 'achiev quick result', 'adapt messag technic', 'adob photoshop sketch', 'adopt exist larg', 'advanc degree experi', 'advertis consult analysi', 'advertis perform data', 'advis client technolog', 'advisori programs abil', 'agenc corpor setting', 'ambigu abil work', 'ambigu environment analyt', 'ambigu environment technolog', 'analysi custom servic', 'analysi market consult', 'analysi result busi', 'analysi skill combin', 'analysi trend appli', 'analyt creativ visual', 'analyt interperson commun', 'analyt orient abl', 'analyt problem solv', 'analyt sale approach', 'analyt skill abil', 'analyt skill busi', 'analyt skill combin', 'analyt skill high', 'analyt skills demonstr', 'analyt skills excel', 'analyt think skills', 'analyz complex advertis', 'ani size background', 'app develop environments', 'appli brand visual', 'appli dure product', 'appli knowledg measur', 'applic develop platform', 'applic web server', 'aptitud data metric', 'architect develop softwar', 'architect develop solut', 'architectur data tiering', 'architectur infrastructur needs', 'architectur saa paa', 'architectur web mobil', 'asset user interfac', 'assum increas respons', 'atrix environment goal', 'attent abil handl', 'audienc comfort present', 'audienc level busi', 'audienc vari level', 'audience mix deep', 'author work unit', 'background excel project', 'background fundament relev', 'base demonstr abil', 'basic technic qualification', 'basic technic qualifications', 'big data landscap', 'big data paa', 'big data platform', 'big data trend', 'big pictur minutiae', 'boundari defin manag', 'brand visual asset', 'broad rang intern', 'broad rang legal', 'build cultiv relationship', 'build influenti relationship', 'build lead manag', 'build relationship individu', 'build strong product', 'build strong relationship', 'build tool experi', 'busi analysi market', 'busi challenges internet', 'busi goal technolog', 'busi intellig technolog', 'busi issu deliv', 'busi judgment abil', 'busi judgment capabl', 'busi object sybas', 'busi problems demonstr', 'busi problems interperson', 'busi recommendations strong', 'busi suit hana', 'busi warehous sap', 'business abil oper', 'business demonstr critic', 'business effect interperson', 'businesses experi use', 'calmli maintain good', 'candid negoti complex', 'capabl excel interperson', 'capabl translat analysi', 'capac assum increas', 'center design principles', 'center design process', 'challeng busi problems', 'chang environment analyt', 'chang environment effect', 'channel model includ', 'channel partner integr', 'classroom interact graphic', 'clear write style', 'client technolog relat', 'close senior execut', 'cloud compani experi', 'cloud comput environ', 'cloud comput market', 'cloud comput relat', 'cloud offer focu', 'cloud platform effect', 'cloud product suit', 'cloud product suites', 'cloud products understand', 'cloud relat industri', 'cloud saa servic', 'cloud technolog aa', 'cloud technolog etwork', 'cloud technolog space', 'cloud technologies strong', 'code common web', 'collabor build relationship', 'collabor cross function', 'collabor passion understand', 'collabor skills abil', 'collabor work cross', 'colleagu differ countri', 'combin abil deleg', 'combin impecc busi', 'comfort present technic', 'comfort roll sleev', 'comfort work cross', 'comfort work fast', 'common web mobil', 'commun collabor skills', 'commun cross function', 'commun effect influenc', 'commun highli technic', 'commun interperson skill', 'commun interperson skills', 'commun negoti collabor', 'commun non technic', 'commun present skill', 'commun present skills', 'commun project manag', 'commun skill abil', 'commun skill includ', 'commun skill verbal', 'commun skills abil', 'commun skills excel', 'commun skills strong', 'communication resent skill', 'communication resent strateg', 'compani experi competit', 'compel messag tailor', 'compens packages experi', 'compet prioriti fast', 'competit cloud product', 'competit partner programs', 'complet wide rang', 'complex advertis perform', 'complex agreement structur', 'complex busi issu', 'complex compens packages', 'complex cross function', 'complex issu develop', 'complex market program', 'complex oper initiatives', 'complex oper strateg', 'complex set stakeholders', 'complex strategi discussions', 'complex technic concept', 'complex web relationship', 'compos framer studio', 'comput databas middlewar', 'comput environ equival', 'comput interact comput', 'comput market passion', 'comput relat technic', 'comput scienc engin', 'comput scienc inform', 'comput scienc mba', 'comput scienc relat', 'comput scienc relev', 'comput scienc technic', 'concept commun non', 'concept scale architectur', 'concept work knowledg', 'confid thorough tenaci', 'confid thorough tenacious', 'confidenti sensit information', 'conflict deliv present', 'constantli chang environment', 'constantli evolv team', 'consult analysi custom', 'consult skill work', 'consult technolog industry', 'consumers excel present', 'context understand user', 'contributor track record', 'convers partner resolv', 'corpor setting experi', 'countri understand cultur', 'craft compel messag', 'creativ problem solv', 'creativ visual thinker', 'credibl paa iaa', 'credibl platform infrastructur', 'critic think skill', 'crm salesforce om', 'cross function engin', 'cross function environment', 'cross function fast', 'cross function geograph', 'cross function level', 'cross function organization', 'cross function stakeholders', 'cross function team', 'cross function teams', 'cross functional atrix', 'cultiv relationship accounts', 'current pursu ms', 'custom consult skill', 'custom experi custom', 'custom face role', 'custom relationship manag', 'custom servic market', 'custom servic oper', 'custom support account', 'dapt exercis judgment', 'data inform manag', 'data landscap busi', 'data manag complex', 'data metric analysi', 'data paa saa', 'data platform nfrastructur', 'data platform servic', 'data tiering understand', 'data tool googl', 'data trend issu', 'databas middlewar visual', 'databases experi work', 'deep aptitud data', 'deep technic expertis', 'deeper technolog adopt', 'deepli complex strategi', 'defin manag priorit', 'defin point view', 'degre comput scienc', 'degre equival practic', 'degre graphic design', 'degre manag technic', 'degre technic field', 'degree experi develop', 'degree experi work', 'deleg motiv develop', 'deliv high qualiti', 'deliv present design', 'deliv result cross', 'deliv signific impact', 'deliv stori memor', 'demonstr abil adapt', 'demonstr abil develop', 'demonstr abil influenc', 'demonstr abil lead', 'demonstr abil meet', 'demonstr abil multi', 'demonstr abil oper', 'demonstr abil speak', 'demonstr abil think', 'demonstr abil work', 'demonstr critic think', 'demonstr execut leadership', 'demonstr internet googl', 'demonstr organiz project', 'demonstr problem solv', 'demonstr profici design', 'demonstr record manag', 'demonstr track record', 'depend holist solv', 'design author work', 'design background fundament', 'design design practices', 'design human comput', 'design motion design', 'design practices experi', 'design principles solid', 'design qualtrics work', 'design scalabl email', 'design strong understand', 'design tool adob', 'develop audienc level', 'develop environments effect', 'develop manag skills', 'develop platform relat', 'develop recommend action', 'develop softwar infrastructur', 'develop softwar scalabl', 'develop solut scalabl', 'develop team members', 'develop team sale', 'differ audienc vari', 'differ countri understand', 'differ make individu', 'differ research method', 'difficult busi problems', 'disast recoveri multi', 'distinct problem solv', 'distribut systems experi', 'distribut systems knowledg', 'draft advis client', 'drive achiev quick', 'drive complex initiatives', 'drive complex oper', 'drive deeper technolog', 'drive implement idea', 'drive success complet', 'dure product develop', 'dure product phase', 'dynam team environment', 'effect analyt problem', 'effect commun present', 'effect commun skill', 'effect convers partner', 'effect cross function', 'effect influenc commun', 'effect influenc stakehold', 'effect interperson commun', 'effect interperson organiz', 'effect interperson skill', 'effect oper enthusiasm', 'effect oper flexibl', 'effect oper high', 'effect problem solv', 'effect project manag', 'effect quartz compos', 'effect team player', 'effect written verbal', 'email correspond partners', 'emerg technolog methodolog', 'end consumers excel', 'end engin work', 'energi flexibl fast', 'engag develop audienc', 'engag senior execut', 'engin cloud comput', 'engin comput scienc', 'engin experi comput', 'engin market teams', 'engin team experi', 'engin team product', 'engin work engineers', 'engineering mba 10', 'engineers abil appli', 'enterpris network ident', 'enterpris resourc plan', 'enterpris softwar cloud', 'enthusiasm flexibl fast', 'environ equival experi', 'environ insid sale', 'environ lead drive', 'environ technic experi', 'environment abil build', 'environment abil effect', 'environment abil engag', 'environment abil speak', 'environment analyt skill', 'environment demonstr abil', 'environment effect written', 'environment excel commun', 'environment excel written', 'environment goal orient', 'environment technolog industri', 'environments effect interperson', 'equival experi custom', 'equival practic experience', 'erb commun skills', 'erb communication resent', 'especi relat big', 'establish media relationship', 'ethic integr proven', 'etwork comput databas', 'evaluation distinct problem', 'everyday languag deliv', 'evolv team environment', 'exceed sale goal', 'exceed strateg goal', 'excel analyt interperson', 'excel analyt skill', 'excel commun interperson', 'excel commun present', 'excel commun project', 'excel commun skill', 'excel interperson commun', 'excel interperson skill', 'excel interperson skills', 'excel judgment discret', 'excel leadership commun', 'excel oral written', 'excel organiz analyt', 'excel partner hannel', 'excel present verbal', 'excel problem solv', 'excel project manag', 'excel written erb', 'excel written oral', 'excel written verbal', 'execut commun highli', 'execut leadership capabl', 'execut leadership team', 'execut level candid', 'execut multipl project', 'execut territori sale', 'exercis judgment dynam', 'exist larg account', 'experi agenc corpor', 'experi architect develop', 'experi big data', 'experi build cultiv', 'experi build relationship', 'experi busi develop', 'experi close senior', 'experi cloud partner', 'experi collabor work', 'experi competit partner', 'experi comput scienc', 'experi cross function', 'experi custom base', 'experi custom face', 'experi depart functions', 'experi develop clean', 'experi develop complex', 'experi enterpris softwar', 'experi follow areas', 'experi googl cloud', 'experi implement troubleshoot', 'experi integr user', 'experi internet search', 'experi internship sale', 'experi knowledg sap', 'experi lead complex', 'experi lead motiv', 'experi manag consult', 'experi manag custom', 'experi manag larg', 'experi onlin advertis', 'experi outsid classroom', 'experi person project', 'experi prior mba', 'experi project manag', 'experi sale advertis', 'experi sale custom', 'experi sap hana', 'experi sell platform', 'experi serv custom', 'experi softwar develop', 'experi softwar lifecycl', 'experi solv complex', 'experi survey design', 'experi technic sale', 'experi transit channel', 'experi understand data', 'experi use crm', 'experi use manag', 'experi use programmat', 'experi web nternet', 'experi work channel', 'experi work close', 'experi work digit', 'experi work larg', 'experi work linux', 'experi work manag', 'experi work partner', 'experi work strateg', 'experi write code', 'experience experi integr', 'experience experi manag', 'experience year experi', 'expertis data manag', 'expertis simpl everyday', 'extern constitu simultaneously', 'extern engin team', 'extern googl partner', 'face role nclude', 'familiar end engin', 'fast grow dynam', 'fast pace constantli', 'fast pace dynam', 'fast pace environ', 'fast pace environment', 'fast pace environments', 'fast pace global', 'fast pace high', 'field equival practic', 'field experi big', 'field experi serv', 'field graduat 2018', 'field omput science', 'field year relev', 'fields demonstr problem', 'financ technic sale', 'flexibl fast pace', 'flexibl willing work', 'flexible dapt exercis', 'focu hec sap', 'foundat cloud technolog', 'framer studio familiar', 'function environment abil', 'function fast pace', 'function geograph dispers', 'function organization excel', 'functional atrix environment', 'fundament relev internship', 'geograph dispers team', 'given audience mix', 'global organization strong', 'goal fast pace', 'goal orient self', 'goal technolog industry', 'good judgment fast', 'googl cloud platform', 'googl cloud product', 'googl partner end', 'googl technolog business', 'google business demonstr', 'google technolog business', 'graduat 2018 2019', 'graduat degre manag', 'graphic design human', 'graphic design motion', 'group ani size', 'hana includ size', 'hana sap busi', 'handl custom relationship', 'handl highli confidenti', 'handl highli strateg', 'handl multipl time', 'hannel pipelin develop', 'hec sap cloud', 'high energi flexibl', 'high perform individuals', 'high qualiti work', 'highli collabor passion', 'highli confidenti sensit', 'highli organ differ', 'highli strateg challeng', 'highli strateg difficult', 'highli success fast', 'highli technic manag', 'html css javascript', 'human comput interact', 'hybri sap busi', 'iaa competit cloud', 'iaa perform basic', 'iaa public cloud', 'iaas work togeth', 'idea chang environment', 'ident access manag', 'ident manag systems', 'identifi trend topic', 'illustr effect quartz', 'impact individu contributor', 'impecc busi judgment', 'implement idea chang', 'implement troubleshoot support', 'includ appli dure', 'includ budget management', 'includ cloud saa', 'includ multi jurisdict', 'includ size disast', 'increas respons highli', 'independ motivation excel', 'independ softwar vendor', 'independ thinker excel', 'independ worker highli', 'individu confid thorough', 'individu contributor track', 'individu team perform', 'individu vari level', 'industri google business', 'industri knowledg integr', 'industri technic concept', 'industry experi technic', 'industry experi use', 'industry technic mind', 'influenc commun cross', 'influenc stakehold intern', 'influenc strong relationship', 'influenti relationship deliv', 'inform manag especi', 'inform systems experi', 'information excel judgment', 'infrastructur needs experi', 'infrastructur project simultan', 'infrastructur scalabl distribut', 'infrastructur servic aas', 'infrastructur servic perform', 'initi build strong', 'insid sale sale', 'integr parti develop', 'integr proven organiz', 'integr servic provid', 'integr user research', 'intellig technolog knowledg', 'interact comput scienc', 'interact graphic design', 'interfac context understand', 'intern extern constitu', 'intern extern engin', 'intern extern stakeholders', 'internet googl technolog', 'internet google technolog', 'internet search advertis', 'internship experi sale', 'internship sale custom', 'internship work work', 'interperson commun negoti', 'interperson commun skill', 'interperson commun skills', 'interperson organiz skill', 'interperson organiz skills', 'interperson skill abil', 'interperson skill comfort', 'interperson skill proven', 'interpret legal document', 'issu businesses experi', 'issu defin point', 'issu deliv signific', 'issu develop recommend', 'java javascript python', 'javascript python php', 'jd advanc degree', 'judgment abil commun', 'judgment capabl translat', 'judgment discret diplomacy', 'judgment fast pace', 'knowledg big data', 'knowledg cloud ecosystem', 'knowledg enterpris network', 'knowledg integr servic', 'knowledg measur statist', 'knowledg sap technolog', 'knowledg statist experiment', 'knowledg statist principl', 'knowledg variou cloud', 'knowledg web applic', 'landscap busi intellig', 'languag deliv stori', 'languag java javascript', 'larg account base', 'larg team environment', 'lead complex oper', 'lead drive complex', 'lead effort disciplines', 'lead handl multipl', 'lead manag multipl', 'lead manag team', 'lead motiv work', 'leadership capabl excel', 'leadership team excel', 'learn understand work', 'legal document work', 'leonardo suit architectur', 'level audienc comfort', 'level busi leaders', 'level candid negoti', 'level cross function', 'level experi depart', 'lifecycl build tool', 'linux experi softwar', 'load balanc network', 'long term impact', 'maintain good judgment', 'make individu contribution', 'manag analyt skills', 'manag busi analysi', 'manag complex set', 'manag cross function', 'manag custom experi', 'manag databases experi', 'manag especi relat', 'manag experience experi', 'manag interperson organiz', 'manag larg complex', 'manag market consulting', 'manag multipl compet', 'manag multipl project', 'manag multipl projects', 'manag numer infrastructur', 'manag numer project', 'manag priorit work', 'manag provid strong', 'manag skill abil', 'manag skill attent', 'manag skills excel', 'manag strateg oper', 'manag systems knowledg', 'manag team high', 'manag technic engin', 'market consult technolog', 'market consulting experi', 'market financ technic', 'market passion googl', 'market program includ', 'market relat fields', 'market team cloud', 'master degre comput', 'master degre phd', 'master degre technic', 'master degree experi', 'materi group ani', 'maxim individu team', 'mba 10 year', 'mba advanc degree', 'mba degree experi', 'mba master degre', 'mba master degree', 'mba program sale', 'measur statist program', 'media relationship solid', 'meet exceed strateg', 'member profession servic', 'members abil deliv', 'memor useful abil', 'messag tailor given', 'messag technic level', 'method includ appli', 'methodolog solut cloud', 'metric analysi trend', 'metric number trends', 'mind understand technolog', 'minutiae demonstr organiz', 'mix deep technic', 'mobil app develop', 'mobil develop languag', 'mobil environ technic', 'model includ cloud', 'motion design author', 'motiv develop team', 'motiv individu confid', 'motivation excel project', 'ms degre graphic', 'ms phd degre', 'multi task manag', 'multi tenanc concept', 'multipl compet prioriti', 'multipl complex market', 'multipl project simultan', 'multipl project time', 'multipl projects strong', 'multipl time sensit', 'navig ambigu environment', 'navig ambigu manag', 'nclude work member', 'needs experi sap', 'negoti collabor skills', 'negoti complex compens', 'network ident manag', 'new emerg technolog', 'nfrastructur servic aas', 'non technic audienc', 'non technic audiences', 'nternet relat technolog', 'numer infrastructur project', 'numer project simultan', 'object sybas leonardo', 'offer focu hec', 'oftwar engineering mba', 'om demonstr abil', 'omput science oftwar', 'onlin advertis industry', 'oom ut big', 'oper enthusiasm flexibl', 'oper fast pace', 'oper flexibl fast', 'oper high energi', 'oper relat fields', 'oper self starter', 'oper technic sale', 'oral commun skill', 'oral commun skills', 'oral written commun', 'organ differ make', 'organiz boundari defin', 'organiz project manag', 'organiz skill abil', 'organiz skill attent', 'organization excel written', 'organization strong commun', 'orient abil priorit', 'orient abl oom', 'orient self motiv', 'outsid classroom interact', 'ownership combin abil', 'paa iaa competit', 'paa iaa perform', 'paa saa iaa', 'pace constantli chang', 'pace constantli evolv', 'pace dynam environment', 'pace dynam team', 'pace environ lead', 'pace environment abil', 'pace environment excel', 'pace environment high', 'pace global organization', 'packages experi solv', 'parti develop deliv', 'particip deepli complex', 'partner end consumers', 'partner hannel pipelin', 'partner integr parti', 'partner possess drive', 'partner program experi', 'partner programs experi', 'partner resolv conflict', 'passion googl cloud', 'passion partner possess', 'passion understand googl', 'pay strict attent', 'peopl manag skills', 'perform basic technic', 'perform data tool', 'persist highli collabor', 'person account strong', 'person project experi', 'ph relat field', 'phd comput scienc', 'phd human comput', 'photoshop sketch illustr', 'pictur minutiae demonstr', 'pipelin develop manag', 'pitch execut territori', 'plan execut multipl', 'plan manag strateg', 'plan pitch execut', 'plan present execut', 'platform effect oper', 'platform infrastructur servic', 'platform nfrastructur servic', 'platform relat technologies', 'platform servic aas', 'player lead effort', 'point view abil', 'possess drive achiev', 'practic experience experi', 'practices experi survey', 'present design scalabl', 'present execut commun', 'present execut territori', 'present skill abil', 'present skill written', 'present technic materi', 'present verbal written', 'previou internship experi', 'principl experi design', 'principles solid analyt', 'prior mba program', 'priorit plan organ', 'prioriti fast pace', 'proactiv independ worker', 'problem solv analysi', 'problem solv analyt', 'problem solv approach', 'problem solv capabl', 'problem solv project', 'problem solv skill', 'problem solv skills', 'problems demonstr internet', 'problems interperson organiz', 'product design design', 'product develop process', 'product develop team', 'product phase excel', 'product suit googl', 'product teams experi', 'profession servic engin', 'profici design tool', 'program evaluation distinct', 'program experi enterpris', 'program includ budget', 'program sale advertis', 'programmat ad buy', 'programs abil manag', 'project broad rang', 'project experi outsid', 'project manag analyt', 'project manag capabilities', 'project manag capabl', 'project manag experi', 'project manag experience', 'project manag interperson', 'project manag organiz', 'project manag skill', 'project manag skills', 'project simultan drive', 'project simultan fast', 'project simultan organ', 'project time pay', 'projects effect analyt', 'projects strong research', 'proven abil deliv', 'proven abil develop', 'proven abil handl', 'proven abil initi', 'proven abil work', 'proven organiz skill', 'proven track record', 'provid ps independ', 'provid strong custom', 'ps independ softwar', 'public cloud relat', 'pursu ms degre', 'pursu ms phd', 'qualifications abil build', 'qualiti work manag', 'qualtrics work knowledg', 'quartz compos framer', 'quick result capac', 'quickli identifi trend', 'quickli learn understand', 'rang intern extern', 'reach exceed sale', 'recommend action plans', 'recommendations strong written', 'record manag custom', 'record person account', 'record reach exceed', 'recoveri multi tenanc', 'recruit experi agenc', 'recruit hr experi', 'relat big data', 'relat field equival', 'relat field experi', 'relat field graduat', 'relat field year', 'relat fields demonstr', 'relat industri technic', 'relat standard http', 'relat technic field', 'relat technic fields', 'relat technic technic', 'relat technolog architectur', 'relat technologies abil', 'relationship accounts understand', 'relationship deliv result', 'relationship depend holist', 'relationship expertis data', 'relationship individu vari', 'relationship manag provid', 'relationship manag rm', 'relationship solid understand', 'relev internship work', 'relev technic field', 'relev work experi', 'relev work experience', 'research analyt skill', 'research method includ', 'research product design', 'resent strateg analyt', 'resolv conflict deliv', 'respons highli success', 'result busi recommendations', 'result capac assum', 'result cross function', 'result cross functional', 'role nclude work', 'roll sleev thing', 'saa iaa public', 'saa paa iaa', 'saa servic advisori', 'sale advertis consult', 'sale custom support', 'sale engin cloud', 'sale engin comput', 'sale engin experi', 'sale goal technolog', 'sale market operations', 'sale market team', 'sale oper relat', 'sale sale market', 'salesforce om demonstr', 'sap busi object', 'sap busi warehous', 'sap cloud offer', 'sap cloud platform', 'sap hana includ', 'sap hybri sap', 'scalabl distribut systems', 'scalabl email correspond', 'scale architectur data', 'scale environ insid', 'scienc inform systems', 'scienc relat field', 'scienc relat technic', 'scienc relev technic', 'science oftwar engineering', 'script languag python', 'search advertis curation', 'self direct work', 'self motiv individu', 'self starter independ', 'sell platform nfrastructur', 'senior execut leadership', 'senior execut level', 'senior stakehold matrix', 'sens account ownership', 'sensit information excel', 'sensit projects effect', 'serv custom servic', 'servic aas aas', 'servic aas infrastructur', 'servic aas technologies', 'servic advisori programs', 'servic engin team', 'servic market financ', 'servic market relat', 'servic oper technic', 'servic perform basic', 'servic provid ps', 'setting experi close', 'shortcom differ research', 'signific impact individu', 'simpl everyday languag', 'simultan drive success', 'simultan fast pace', 'simultan organ fashion', 'size background excel', 'size disast recoveri', 'sketch illustr effect', 'skill abil build', 'skill abil comfort', 'skill abil commun', 'skill abil deliv', 'skill abil drive', 'skill abil effect', 'skill abil handl', 'skill abil influenc', 'skill abil manag', 'skill abil navig', 'skill abil plan', 'skill abil quickli', 'skill abil solv', 'skill abil work', 'skill attent abil', 'skill attent excel', 'skill busi challenges', 'skill busi problems', 'skill combin impecc', 'skill comfort work', 'skill commit profession', 'skill demonstr abil', 'skill impecc busi', 'skill independ motivation', 'skill proven abil', 'skill verbal visual', 'skill work larg', 'skill written verbal', 'skills abil speak', 'skills abil travel', 'skills abl analyz', 'skills demonstr organiz', 'skills excel commun', 'skills excel written', 'softwar cloud compani', 'softwar facilit commun', 'softwar infrastructur scalabl', 'softwar lifecycl build', 'softwar scalabl distribut', 'softwar vendor svs', 'solid analyt creativ', 'solid understand cloud', 'solut architectur web', 'solut cloud technolog', 'solut scalabl distribut', 'solv analysi skill', 'solv analyt skill', 'solv complex busi', 'solv complex problem', 'solv highli strateg', 'solv project manag', 'solv skill abil', 'solv skill impecc', 'speak credibl paa', 'speak credibl platform', 'speak write english', 'stakehold intern extern', 'stakehold matrix organization', 'starter independ thinker', 'statist comput scienc', 'statist experiment design', 'statist principl experi', 'statist program evaluation', 'stori memor useful', 'strateg analyt sale', 'strateg analyt skill', 'strateg analyt think', 'strateg busi goal', 'strateg busi goals', 'strateg challeng busi', 'strateg complex issu', 'strateg difficult busi', 'strateg goal fast', 'strateg oper level', 'strength shortcom differ', 'strong analyt problem', 'strong analyt skill', 'strong analyt skills', 'strong busi acumen', 'strong commun present', 'strong commun skill', 'strong cross function', 'strong custom consult', 'strong design background', 'strong problem solv', 'strong product relationships', 'strong project manag', 'strong relationship expertis', 'strong research analyt', 'strong sens account', 'strong strateg analyt', 'strong understand strength', 'strong work ethic', 'strong written verbal', 'studio familiar end', 'success complet wide', 'success fast pace', 'suit architectur infrastructur', 'suit googl cloud', 'suit hana sap', 'suppli chain manag', 'suppli chain processes', 'support account manag', 'survey design qualtrics', 'svs knowledg cloud', 'sybas leonardo suit', 'systems demonstr abil', 'systems experi architect', 'systems experi use', 'systems knowledg big', 'systems knowledg enterpris', 'tailor given audience', 'task manag multipl', 'team cloud comput', 'team environment abil', 'team environment excel', 'team excel written', 'team extern googl', 'team high perform', 'team members abil', 'team perform maintain', 'team player lead', 'team product develop', 'teams excel commun', 'teams experi work', 'technic audienc effectively', 'technic concept commun', 'technic concept work', 'technic engin field', 'technic experi web', 'technic expertis simpl', 'technic field experi', 'technic field omput', 'technic level audienc', 'technic materi group', 'technic mind understand', 'technic non technic', 'technic qualifications abil', 'technic sale engin', 'technic sale oper', 'technic technic field', 'technolog aa iaas', 'technolog adopt exist', 'technolog architectur saa', 'technolog business abil', 'technolog business effect', 'technolog cloud comput', 'technolog etwork comput', 'technolog industri google', 'technolog industry experi', 'technolog industry technic', 'technolog knowledg variou', 'technolog methodolog solut', 'technolog relat commerci', 'technologies abil craft', 'technologies experi serv', 'technologies experi work', 'technologies strong sens', 'tenaci strong analyt', 'tenacious analyt orient', 'tenanc concept scale', 'territori sale strategy', 'think plan execut', 'think skill abil', 'think skill independ', 'think strateg complex', 'thinker excel commun', 'thinker excel project', 'thorough tenaci strong', 'thorough tenacious analyt', 'tiering understand sap', 'time pay strict', 'time sensit projects', 'togeth drive deeper', 'tool adob photoshop', 'tool experi architect', 'tool googl adword', 'topic issu defin', 'track record develop', 'track record manag', 'track record person', 'track record reach', 'track record success', 'transit channel model', 'translat analysi result', 'trend appli knowledg', 'trend issu businesses', 'trend topic issu', 'understand big data', 'understand cloud technologies', 'understand cultur differences', 'understand data inform', 'understand foundat cloud', 'understand googl products', 'understand sap cloud', 'understand solut architectur', 'understand strength shortcom', 'understand technolog cloud', 'understand user center', 'understand work new', 'use crm salesforce', 'use manag databases', 'use programmat ad', 'useful abil quickli', 'user center design', 'user interfac context', 'user research product', 'ut big pictur', 'vari level experi', 'vari level organization', 'variou cloud technolog', 'vendor svs knowledg', 'verbal commun skill', 'verbal commun skills', 'verbal communication resent', 'verbal visual strong', 'verbal written commun', 'view abil engag', 'visual asset user', 'visual strong design', 'visual thinker excel', 'warehous sap hybri', 'web applic develop', 'web mobil develop', 'web mobil environ', 'web nternet relat', 'web relationship depend', 'wide rang stakehold', 'willing work broad', 'work broad rang', 'work calmli maintain', 'work channel partner', 'work cross function', 'work effect cross', 'work engineers abil', 'work ethic integr', 'work experi includ', 'work experi person', 'work experi prior', 'work experience experi', 'work fast grow', 'work fast pace', 'work knowledg statist', 'work knowledg web', 'work larg team', 'work linux experi', 'work manag multipl', 'work member profession', 'work metric number', 'work new emerg', 'work organiz boundari', 'work strateg busi', 'work strateg goal', 'work strateg goals', 'work togeth drive', 'work unit states', 'work web mobil', 'work work experi', 'worker highli organ', 'write code common', 'written commun skill', 'written commun skills', 'written erb commun', 'written erb communication', 'written oral commun', 'written verbal commun', 'written verbal communication', 'year experi lead', 'year experi onlin', 'year experi sell', 'year experi work', 'year partner program', 'year recruit experi', 'year relev work']\n"
     ]
    }
   ],
   "source": [
    "corpus_null = data['Preferred.Qualifications']\n",
    "corpus= corpus_null.fillna(\" \") # clean 15 empty lines, replace null entries with space\n",
    "\n",
    "#replacing punctuation\n",
    "corpus = corpus.str.replace('\\'',' ')\n",
    "corpus = corpus.str.replace(\"-\",' ')\n",
    "corpus = corpus.str.replace(\",\",'')\n",
    "corpus = corpus.str.replace(\"\\\\n\",'. ')\n",
    "corpus = corpus.str.replace('[^\\w\\s]','.')\n",
    "corpus = corpus.str.replace(\"\\..\",'.')\n",
    "\n",
    "\n",
    "#corpus = corpus.str.replace('.','')\n",
    "\n",
    "st = PorterStemmer()\n",
    "corpus = corpus.apply(lambda x: \" \".join([st.stem(word) for word in x.split()]))#stem words\n",
    "\n",
    "# tokenize all words 3 letters or longer.  Ignore 3-grams that occur in more than 727 or in less than 3 descriptions\n",
    "vectorizer = CountVectorizer(stop_words = 'english', strip_accents=ascii, ngram_range=(3,3), analyzer = 'word',max_df=0.6, min_df=.005)\n",
    "bow = np.array(vectorizer.fit_transform(corpus).toarray())\n",
    "#print(\"extracted \" + str(len(vectorizer.get_feature_names())) + \" features from \" + str(len(corpus)) + \" documents\\n\")\n",
    "#print(vectorizer.get_feature_names())"
   ]
  },
  {
   "cell_type": "code",
   "execution_count": 6,
   "metadata": {},
   "outputs": [
    {
     "name": "stdout",
     "output_type": "stream",
     "text": [
      "extracted 273 features from 1227 documents\n",
      "\n",
      "['2018 argentina', '2018 brazil', '2018 colombia', '2018 mexico', 'account execut', 'account lead', 'account manag', 'account strategist', 'ach integr', 'ad commerc', 'ad googl', 'administr busi', 'analyst consum', 'analyst data', 'analyst googl', 'analyst market', 'analyst product', 'analyst trust', 'analyt lead', 'analyt manag', 'android partner', 'architect googl', 'architect healthcar', 'art time', 'associ account', 'associ legal', 'attribut specialist', 'bilingual 2018', 'bold intern', 'brand studio', 'busi analyst', 'busi develop', 'busi intern', 'busi manag', 'busi partner', 'busi strategi', 'buy solut', 'chain manag', 'channel sale', 'channel specialist', 'cloud ach', 'cloud engin', 'cloud mea', 'cloud nglish', 'cloud platform', 'cloud profession', 'cloud support', 'cluster manag', 'commun googl', 'commun manag', 'commun program', 'consult ad', 'consult android', 'consult googl', 'consum hardwar', 'counsel commerci', 'custom develop', 'custom experi', 'custom growth', 'custom sale', 'data analyst', 'data scienc', 'data scientist', 'deal manag', 'design engin', 'design intern', 'design manag', 'develop advoc', 'develop engin', 'develop manag', 'develop repres', 'enabl manag', 'engin consum', 'engin end', 'engin googl', 'engin intern', 'engin manag', 'engin verili', 'english bilingual', 'enterpris custom', 'event experi', 'execut googl', 'experi design', 'experi engin', 'experi research', 'extend workforc', 'field sale', 'financ manag', 'financi analyst', 'firebas googl', 'glob custom', 'global custom', 'global partner', 'global partnership', 'global suppli', 'gm sale', 'googl analyt', 'googl cloud', 'googl hardwar', 'googl market', 'googl peopl', 'googl play', 'googl profession', 'googl technic', 'growth market', 'hardwar partnership', 'head profession', 'healthcar life', 'industri manag', 'insid sale', 'integr partnership', 'intellig analyst', 'interact design', 'intern 2018', 'intern audit', 'intern commun', 'intern orean', 'intern summer', 'larg custom', 'lead engin', 'lead googl', 'lead larg', 'lead onlin', 'leadership staf', 'learn product', 'legal counsel', 'life scienc', 'machin learn', 'manag ach', 'manag ad', 'manag america', 'manag cloud', 'manag consum', 'manag doubleclick', 'manag global', 'manag googl', 'manag larg', 'manag market', 'manag media', 'manag mericas', 'manag new', 'manag retail', 'manag search', 'manag secur', 'manag telecom', 'market googl', 'market manag', 'market partnership', 'market solut', 'market strategi', 'mba intern', 'measur attribut', 'media buy', 'mobil app', 'mobil ux', 'mobil web', 'nglish chinese', 'nglish german', 'nglish japanese', 'nglish mandarin', 'nglish russian', 'onboard manag', 'onlin experi', 'onlin partnership', 'onlin sale', 'oper engin', 'oper googl', 'oper lead', 'oper manag', 'oper specialist', 'orean english', 'partner busi', 'partner develop', 'partner engin', 'partner googl', 'partner manag', 'partner market', 'partner onboard', 'partner sale', 'partnership erman', 'partnership googl', 'partnership group', 'partnership solut', 'peopl consult', 'peopl partner', 'peopl servic', 'perform specialist', 'physic secur', 'platform account', 'platform pigee', 'platform sale', 'product analyst', 'product market', 'product specialist', 'product tool', 'profession servic', 'program manag', 'project manag', 'public relat', 'quantit analyst', 'quantit user', 'real estat', 'relat manag', 'reliabl engin', 'repres googl', 'research analyst', 'research intern', 'research lead', 'retail market', 'sale account', 'sale develop', 'sale engin', 'sale googl', 'sale manag', 'sale nglish', 'sale repres', 'san francisco', 'scienc googl', 'scienc south', 'secur manag', 'secur nglish', 'secur product', 'senior account', 'servic ad', 'servic googl', 'servic nglish', 'site reliabl', 'smb googl', 'smb market', 'smb sale', 'softwar engin', 'solut architect', 'solut consult', 'solut engin', 'south san', 'specialist googl', 'specialist lc', 'staf channel', 'staf manag', 'staf servic', 'store oper', 'strateg cloud', 'strateg partner', 'strategi lead', 'strategi manag', 'strategi oper', 'strategist global', 'strategist sale', 'suit strateg', 'summer 2018', 'suppli chain', 'supplier develop', 'survey lead', 'technic account', 'technic program', 'technic servic', 'technic solut', 'technic specialist', 'technic writer', 'test engin', 'time art', 'tool oper', 'trust safeti', 'ull time', 'univers graduat', 'user experi', 'ux design', 'ux engin', 'ux lead', 'verili life', 'visual design', 'workforc solut', 'writer univers']\n"
     ]
    }
   ],
   "source": [
    "corpus_null = data['Title']\n",
    "corpus= corpus_null.fillna(\" \") # clean 15 empty lines, replace null entries with space\n",
    "\n",
    "#replacing punctuation\n",
    "corpus = corpus.str.replace('\\'',' ')\n",
    "corpus = corpus.str.replace(\"-\",' ')\n",
    "corpus = corpus.str.replace(\",\",'')\n",
    "corpus = corpus.str.replace(\"\\\\n\",'. ')\n",
    "corpus = corpus.str.replace('[^\\w\\s]','.')\n",
    "corpus = corpus.str.replace(\"\\..\",'.')\n",
    "\n",
    "\n",
    "#corpus = corpus.str.replace('.','')\n",
    "\n",
    "st = PorterStemmer()\n",
    "corpus = corpus.apply(lambda x: \" \".join([st.stem(word) for word in x.split()]))#stem words\n",
    "\n",
    "# tokenize all words 3 letters or longer.  Ignore 2-grams that occur in more than 727 or in less than 3 descriptions\n",
    "vectorizer = CountVectorizer(stop_words = 'english', strip_accents=ascii, ngram_range=(2,2), analyzer = 'word',max_df=0.6, min_df=.0025)\n",
    "bow = np.array(vectorizer.fit_transform(corpus).toarray())\n",
    "#print(\"extracted \" + str(len(vectorizer.get_feature_names())) + \" features from \" + str(len(corpus)) + \" documents\\n\")\n",
    "#print(vectorizer.get_feature_names())"
   ]
  },
  {
   "cell_type": "code",
   "execution_count": 7,
   "metadata": {},
   "outputs": [
    {
     "name": "stdout",
     "output_type": "stream",
     "text": [
      "PhDs = 8\n",
      "BA/BSs = 978\n",
      "Masters = 308\n",
      "Lawyers = 6\n",
      "MBAs = 71\n",
      "Associates = 440\n"
     ]
    }
   ],
   "source": [
    "# extract minimum degree qualifications\n",
    "phd = []\n",
    "babs = []\n",
    "mstr = []\n",
    "dct = []\n",
    "mba = []\n",
    "asc = []\n",
    "for a in data['Minimum.Qualifications']:\n",
    "    if a is None:\n",
    "        a = \"\"\n",
    "    if (str(a).lower().find(\"phd\") != -1):\n",
    "        phd.append(1)\n",
    "    else:\n",
    "        phd.append(0)\n",
    "    if (str(a).lower().find(\"ba/bs\") != -1 or str(a).lower().find(\"bachelor\") != -1):\n",
    "        babs.append(1)\n",
    "    else:\n",
    "        babs.append(0)\n",
    "    if (str(a).lower().find(\"ms\") != -1 or str(a).lower().find(\"master\") != -1):\n",
    "        mstr.append(1)\n",
    "    else:\n",
    "        mstr.append(0)\n",
    "    if (str(a).lower().find(\"juris\") != -1):\n",
    "        dct.append(1)\n",
    "    else:\n",
    "        dct.append(0)\n",
    "    if (str(a).lower().find(\"mba\") != -1):\n",
    "        mba.append(1)\n",
    "    else:\n",
    "        mba.append(0)\n",
    "    if (str(a).lower().find(\"aa\") != -1 or str(a).lower().find(\"as\") != -1):\n",
    "        asc.append(1)\n",
    "    else:\n",
    "        asc.append(0)\n",
    "\n",
    "# print(\"PhDs = \" + str(sum(phd[1:])))\n",
    "# print(\"BA/BSs = \" + str(sum(babs[1:])))\n",
    "# print(\"Masters = \" + str(sum(mstr[1:])))\n",
    "# print(\"Lawyers = \" + str(sum(dct[1:])))\n",
    "# print(\"MBAs = \" + str(sum(mba[1:])))\n",
    "# print(\"Associates = \" + str(sum(asc[1:])))"
   ]
  },
  {
   "cell_type": "code",
   "execution_count": 8,
   "metadata": {},
   "outputs": [],
   "source": [
    "# append minimum degree qualifications to data set\n",
    "minquals = {'min phd' : pd.Series(phd),\n",
    "              'min ba/bs' : pd.Series(babs),\n",
    "              'min master' : pd.Series(mstr),\n",
    "              'min juris' : pd.Series(dct),\n",
    "              'min mba' : pd.Series(mba),\n",
    "              'min associate' : pd.Series(asc)}\n",
    "dtm = pd.DataFrame(minquals)\n",
    "new_data = pd.concat([new_data, dtm], axis=1)"
   ]
  },
  {
   "cell_type": "code",
   "execution_count": 9,
   "metadata": {},
   "outputs": [
    {
     "name": "stdout",
     "output_type": "stream",
     "text": [
      "pref PhDs = 66\n",
      "pref BA/BSs = 22\n",
      "pref Masters = 671\n",
      "pref Lawyers = 11\n",
      "pref MBAs = 199\n",
      "pref Associates = 872\n"
     ]
    }
   ],
   "source": [
    "# extract preferred degree qualifications\n",
    "phd = []\n",
    "babs = []\n",
    "mstr = []\n",
    "dct = []\n",
    "mba = []\n",
    "asc = []\n",
    "for a in data['Preferred.Qualifications']:\n",
    "    if a is None:\n",
    "        a = \"\"\n",
    "    if (str(a).lower().find(\"phd\") != -1):\n",
    "        phd.append(1)\n",
    "    else:\n",
    "        phd.append(0)\n",
    "    if (str(a).lower().find(\"ba/bs\") != -1 or str(a).lower().find(\"bachelor\") != -1):\n",
    "        babs.append(1)\n",
    "    else:\n",
    "        babs.append(0)\n",
    "    if (str(a).lower().find(\"ms\") != -1 or str(a).lower().find(\"master\") != -1):\n",
    "        mstr.append(1)\n",
    "    else:\n",
    "        mstr.append(0)\n",
    "    if (str(a).lower().find(\"juris\") != -1):\n",
    "        dct.append(1)\n",
    "    else:\n",
    "        dct.append(0)\n",
    "    if (str(a).lower().find(\"mba\") != -1):\n",
    "        mba.append(1)\n",
    "    else:\n",
    "        mba.append(0)\n",
    "    if (str(a).lower().find(\"aa\") != -1 or str(a).lower().find(\"as\") != -1):\n",
    "        asc.append(1)\n",
    "    else:\n",
    "        asc.append(0)\n",
    "\n",
    "# print(\"pref PhDs = \" + str(sum(phd[1:])))\n",
    "# print(\"pref BA/BSs = \" + str(sum(babs[1:])))\n",
    "# print(\"pref Masters = \" + str(sum(mstr[1:])))\n",
    "# print(\"pref Lawyers = \" + str(sum(dct[1:])))\n",
    "# print(\"pref MBAs = \" + str(sum(mba[1:])))\n",
    "# print(\"pref Associates = \" + str(sum(asc[1:])))"
   ]
  },
  {
   "cell_type": "code",
   "execution_count": 10,
   "metadata": {},
   "outputs": [],
   "source": [
    "# append preferred degree qualifications to data set\n",
    "prefquals = {'pref phd' : pd.Series(phd),\n",
    "              'pref ba/bs' : pd.Series(babs),\n",
    "              'pref master' : pd.Series(mstr),\n",
    "              'pref juris' : pd.Series(dct),\n",
    "              'pref mba' : pd.Series(mba),\n",
    "              'pref associate' : pd.Series(asc)}\n",
    "dtm = pd.DataFrame(prefquals)\n",
    "new_data = pd.concat([new_data, dtm], axis=1)\n",
    "new_data.to_csv(\"dtm_jobs_v2.csv\", header= True)"
   ]
  }
 ],
 "metadata": {
  "kernelspec": {
   "display_name": "Python 3",
   "language": "python",
   "name": "python3"
  },
  "language_info": {
   "codemirror_mode": {
    "name": "ipython",
    "version": 3
   },
   "file_extension": ".py",
   "mimetype": "text/x-python",
   "name": "python",
   "nbconvert_exporter": "python",
   "pygments_lexer": "ipython3",
   "version": "3.6.5"
  }
 },
 "nbformat": 4,
 "nbformat_minor": 2
}
